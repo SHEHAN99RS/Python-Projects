{
 "cells": [
  {
   "cell_type": "markdown",
   "id": "25b45f17",
   "metadata": {},
   "source": [
    "### Temperature Conversion"
   ]
  },
  {
   "cell_type": "code",
   "execution_count": null,
   "id": "643eeeb2",
   "metadata": {},
   "outputs": [
    {
     "name": "stdout",
     "output_type": "stream",
     "text": [
      "77.0\n",
      "25.0\n"
     ]
    }
   ],
   "source": [
    "def convert_temp(temp, unit):\n",
    "    \"\"\"Convert the Temperature between Celsius and Fahrenheit\"\"\"\n",
    "    \n",
    "    if unit == 'C':\n",
    "        return temp * 9 / 5 + 32\n",
    "    elif unit == 'F':\n",
    "        return (temp - 32) * 5 / 9\n",
    "    else:\n",
    "        return None  \n",
    "\n",
    "print(convert_temp(25, 'C'))   \n",
    "print(convert_temp(77, 'F'))   \n"
   ]
  },
  {
   "cell_type": "markdown",
   "id": "37996183",
   "metadata": {},
   "source": [
    "### Password Strength Checker"
   ]
  },
  {
   "cell_type": "code",
   "execution_count": 15,
   "id": "247ac5ca",
   "metadata": {},
   "outputs": [
    {
     "name": "stdout",
     "output_type": "stream",
     "text": [
      "True\n"
     ]
    }
   ],
   "source": [
    "def is_strong_password(password):\n",
    "    \"\"\"Check if Password strong or not\"\"\"\n",
    "    if len(password)<8:\n",
    "        return false\n",
    "    if not any(char.isdigit() for char in password):\n",
    "        return false\n",
    "    if not any(char.islower() for char in password):\n",
    "        return false\n",
    "    if not any(char.isupper() for char in password):\n",
    "        return false\n",
    "    if not any(char in '!@#$%^&*()_+' for char in password):\n",
    "        return false\n",
    "    return True\n",
    "\n",
    "print(is_strong_password(\"Week@asd5\"))"
   ]
  },
  {
   "cell_type": "markdown",
   "id": "4a643e55",
   "metadata": {},
   "source": [
    "### Calculate the total cost of items in a shopping cart"
   ]
  },
  {
   "cell_type": "code",
   "execution_count": 19,
   "id": "15f9fb28",
   "metadata": {},
   "outputs": [
    {
     "name": "stdout",
     "output_type": "stream",
     "text": [
      "385\n"
     ]
    }
   ],
   "source": [
    "def cal_total_cost(cart):\n",
    "    total_cost=0\n",
    "    for item in cart:\n",
    "        total_cost+=item['price']* item['quantity']\n",
    "    return total_cost\n",
    "\n",
    "cart=[\n",
    "    {'name':'Apple','price':10,'quantity':4},\n",
    "    {'name':'Banana','price':20,'quantity':5},\n",
    "    {'name':'Kiwi','price':35,'quantity':7}\n",
    "]\n",
    "\n",
    "total_cost=cal_total_cost(cart)\n",
    "print(total_cost)"
   ]
  },
  {
   "cell_type": "markdown",
   "id": "fa0577f4",
   "metadata": {},
   "source": [
    "### Check Palindrome String"
   ]
  },
  {
   "cell_type": "code",
   "execution_count": 21,
   "id": "7b4038dc",
   "metadata": {},
   "outputs": [
    {
     "name": "stdout",
     "output_type": "stream",
     "text": [
      "True\n",
      "False\n"
     ]
    }
   ],
   "source": [
    "def is_palindrome(s):\n",
    "    s=s.lower().replace(\"\",\"\")\n",
    "    return s==s[::-1]\n",
    "\n",
    "print(is_palindrome(\"Aba\"))\n",
    "print(is_palindrome(\"Hello\"))"
   ]
  },
  {
   "cell_type": "markdown",
   "id": "89c2ca93",
   "metadata": {},
   "source": [
    "### Factorial of a Number"
   ]
  },
  {
   "cell_type": "code",
   "execution_count": 25,
   "id": "1252464d",
   "metadata": {},
   "outputs": [
    {
     "name": "stdout",
     "output_type": "stream",
     "text": [
      "3628800\n"
     ]
    }
   ],
   "source": [
    "def fact(n):\n",
    "    if n==0:\n",
    "        return 1\n",
    "    else:\n",
    "        return n*fact(n-1)\n",
    "\n",
    "print(fact(10))"
   ]
  },
  {
   "cell_type": "markdown",
   "id": "5ec519a3",
   "metadata": {},
   "source": [
    "### Counting Words"
   ]
  },
  {
   "cell_type": "code",
   "execution_count": 31,
   "id": "fb1d7bff",
   "metadata": {},
   "outputs": [
    {
     "name": "stdout",
     "output_type": "stream",
     "text": [
      "{'hello': 1, 'world': 1, 'how': 1, 'are': 1, 'you': 2, 'my': 1, 'name': 1, 'is': 1, 'jack': 1, 'look': 1, 'nice': 1}\n"
     ]
    }
   ],
   "source": [
    "def count_word_frequency(file_path):\n",
    "    word_count={}\n",
    "    with open(file_path,'r') as file:\n",
    "        for line in file:\n",
    "            words=line.split()\n",
    "            for word in words:\n",
    "                word=word.lower().strip('.,!?;:\"\\\"')\n",
    "                word_count[word]=word_count.get(word,0)+1\n",
    "\n",
    "    return word_count\n",
    "\n",
    "filepath='sample.txt'\n",
    "word_frequency=count_word_frequency(filepath)\n",
    "print(word_frequency)"
   ]
  },
  {
   "cell_type": "markdown",
   "id": "20151614",
   "metadata": {},
   "source": [
    "### Validate the Email Address"
   ]
  },
  {
   "cell_type": "code",
   "execution_count": 32,
   "id": "2e5b8707",
   "metadata": {},
   "outputs": [
    {
     "name": "stdout",
     "output_type": "stream",
     "text": [
      "True\n",
      "False\n"
     ]
    }
   ],
   "source": [
    "import re\n",
    "\n",
    "def is_valid(email):\n",
    "    \"\"\"Check Validity of Emails\"\"\"\n",
    "    pattern=r'^[a-zA-Z0-9_.+-]+@[a-zA-Z0-9-]+\\.[a-zA-Z0-9-.]+$'\n",
    "    return re.match(pattern,email) is not None\n",
    "\n",
    "print(is_valid(\"test@example.com\"))\n",
    "print(is_valid(\"invalid-email\"))"
   ]
  },
  {
   "cell_type": "code",
   "execution_count": null,
   "id": "ab851ed5",
   "metadata": {},
   "outputs": [],
   "source": []
  }
 ],
 "metadata": {
  "kernelspec": {
   "display_name": "Python 3",
   "language": "python",
   "name": "python3"
  },
  "language_info": {
   "codemirror_mode": {
    "name": "ipython",
    "version": 3
   },
   "file_extension": ".py",
   "mimetype": "text/x-python",
   "name": "python",
   "nbconvert_exporter": "python",
   "pygments_lexer": "ipython3",
   "version": "3.12.0"
  }
 },
 "nbformat": 4,
 "nbformat_minor": 5
}
