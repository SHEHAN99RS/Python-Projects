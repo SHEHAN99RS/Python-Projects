{
 "cells": [
  {
   "cell_type": "markdown",
   "id": "e4cb330e",
   "metadata": {},
   "source": [
    "### To Do List"
   ]
  },
  {
   "cell_type": "code",
   "execution_count": 2,
   "id": "311ee4dd",
   "metadata": {},
   "outputs": [
    {
     "name": "stdout",
     "output_type": "stream",
     "text": [
      "Don't Forget to Pay Current Bills\n",
      "To List Remaining\n",
      "-Buy Groceries\n",
      "-Pay Bills\n",
      "-Arrange meeting\n",
      "-Go to Gym\n"
     ]
    }
   ],
   "source": [
    "to_do_list=[\"Buy Groceries\",\"Cleaning House\",\"Pay Bills\"]\n",
    "\n",
    "to_do_list.append(\"Arrange meeting\")\n",
    "to_do_list.append(\"Go to Gym\")\n",
    "\n",
    "to_do_list.remove(\"Cleaning House\")\n",
    "\n",
    "if \"Pay Bills\" in to_do_list:\n",
    "    print(\"Don't Forget to Pay Current Bills\")\n",
    "\n",
    "print(\"To List Remaining\")\n",
    "for task in to_do_list:\n",
    "    print(f\"-{task}\")"
   ]
  },
  {
   "cell_type": "markdown",
   "id": "18a6feab",
   "metadata": {},
   "source": [
    "### Oraganizing Student Grades"
   ]
  },
  {
   "cell_type": "code",
   "execution_count": 4,
   "id": "23f3961d",
   "metadata": {},
   "outputs": [
    {
     "name": "stdout",
     "output_type": "stream",
     "text": [
      "Average Grade:71.22\n",
      "Highest Grade: 98\n",
      "Lowest Grade: 35\n"
     ]
    }
   ],
   "source": [
    "grades=[65,89,76,43,35,90,64,98]\n",
    "\n",
    "grades.append(81)\n",
    "\n",
    "average_grade=sum(grades)/len(grades)\n",
    "print(f\"Average Grade:{average_grade:.2f}\")\n",
    "\n",
    "highest_grade=max(grades)\n",
    "lowest_grade=min(grades)\n",
    "\n",
    "print(f\"Highest Grade: {highest_grade}\")\n",
    "print(f\"Lowest Grade: {lowest_grade}\")"
   ]
  },
  {
   "cell_type": "markdown",
   "id": "1dccfda7",
   "metadata": {},
   "source": [
    "### Managing a inventry items"
   ]
  },
  {
   "cell_type": "code",
   "execution_count": 5,
   "id": "1ce5d20a",
   "metadata": {},
   "outputs": [
    {
     "name": "stdout",
     "output_type": "stream",
     "text": [
      "apple are in stock.\n",
      "Inventry List:\n",
      "-apple\n",
      "-kiwi\n",
      "-cherry\n",
      "-orange\n"
     ]
    }
   ],
   "source": [
    "inventry=[\"apple\",\"banana\",\"kiwi\",\"cherry\"]\n",
    "\n",
    "inventry.append(\"orange\")\n",
    "\n",
    "inventry.remove(\"banana\")\n",
    "\n",
    "item =\"apple\"\n",
    "if item in inventry:\n",
    "    print(f\"{item} are in stock.\")\n",
    "else:\n",
    "    print(f\"{item} are out of stock.\")\n",
    "\n",
    "print(\"Inventry List:\")\n",
    "for item in inventry:\n",
    "    print(f\"-{item}\")\n"
   ]
  },
  {
   "cell_type": "markdown",
   "id": "32c2bbe8",
   "metadata": {},
   "source": [
    "### Collecting User Feedback"
   ]
  },
  {
   "cell_type": "code",
   "execution_count": 7,
   "id": "0455b5ce",
   "metadata": {},
   "outputs": [
    {
     "name": "stdout",
     "output_type": "stream",
     "text": [
      "Positive Feedback Count: 2\n",
      "User Feedback:\n",
      "-Great\n",
      "-Very satisfy\n",
      "-Could be better\n",
      "-Excellent\n",
      "-Not happy\n"
     ]
    }
   ],
   "source": [
    "feedback=[\"Great\",\"Very satisfy\",\"Could be better\",\"Excellent\"]\n",
    "\n",
    "feedback.append(\"Not happy\")\n",
    "\n",
    "positive_feedback_count=sum(1 for comment in feedback if \"great\" in comment.lower() or \"excellent\" in comment.lower())\n",
    "print(f\"Positive Feedback Count: {positive_feedback_count}\")\n",
    "\n",
    "print(\"User Feedback:\")\n",
    "for comment in feedback:\n",
    "    print(f\"-{comment}\")"
   ]
  }
 ],
 "metadata": {
  "kernelspec": {
   "display_name": "Python 3",
   "language": "python",
   "name": "python3"
  },
  "language_info": {
   "codemirror_mode": {
    "name": "ipython",
    "version": 3
   },
   "file_extension": ".py",
   "mimetype": "text/x-python",
   "name": "python",
   "nbconvert_exporter": "python",
   "pygments_lexer": "ipython3",
   "version": "3.12.0"
  }
 },
 "nbformat": 4,
 "nbformat_minor": 5
}
